{
 "cells": [
  {
   "cell_type": "markdown",
   "id": "399f4ab1",
   "metadata": {},
   "source": [
    "<h3 align=\"center\" style=\"color:blue\">Codebasics Python Course: Numpy Exercise</h3>"
   ]
  },
  {
   "cell_type": "markdown",
   "id": "99f1a070",
   "metadata": {},
   "source": [
    "Below two numpy arrays are given with following columns. \n",
    "\n",
    "* Employee Details (1) Employee ID (2) Department (3) Salary\n",
    "* Performance Metrics (1) Employee ID (2) Performance Score (out of 100) (3) Number of Projects Completed\n",
    "\n",
    "Using these two arrays you need to complete set of tasks which are given in the notebook cells (along with hints)"
   ]
  },
  {
   "cell_type": "code",
   "execution_count": 28,
   "id": "ec997f5a",
   "metadata": {},
   "outputs": [],
   "source": [
    "import numpy as np\n",
    "\n",
    "# Employee Details (1) Employee ID (2) Department (3) Salary\n",
    "employee_details = np.array([\n",
    "    [101, 'Sales', 55000, 'Satya Nadella'],  \n",
    "    [102, 'HR', 52000, 'Emily Johnson'],    \n",
    "    [103, 'IT', 72000, 'Fatima Razaak'],        \n",
    "    [104, 'Sales', 60000, 'John Smith'],    \n",
    "    [105, 'IT', 68000, 'Priya Singh'],      \n",
    "    [106, 'HR', 54000, 'Li Wei'],           \n",
    "    [107, 'IT', 71000, 'Michael Brown'],    \n",
    "    [108, 'Sales', 59000, 'Sunita Sharma'], \n",
    "    [109, 'HR', 53000, 'Chen Wei']          \n",
    "])\n",
    "\n",
    "# Performance Metrics (1) Employee ID (2) Performance Score (out of 100) (3) Number of Projects Completed\n",
    "performance_metrics = np.array([\n",
    "    [101, 85, 5],\n",
    "    [102, 78, 3],\n",
    "    [103, 92, 7],\n",
    "    [104, 88, 6],\n",
    "    [105, 79, 4],\n",
    "    [106, 81, 5],\n",
    "    [107, 91, 8],\n",
    "    [108, 77, 4],\n",
    "    [109, 83, 4]\n",
    "])"
   ]
  },
  {
   "cell_type": "markdown",
   "id": "d2a4d20d",
   "metadata": {},
   "source": [
    "### Task 1: Merge above two numpy arrays using np.hstack"
   ]
  },
  {
   "cell_type": "code",
   "execution_count": 5,
   "id": "6f15bb12",
   "metadata": {},
   "outputs": [],
   "source": [
    "# write code here"
   ]
  },
  {
   "cell_type": "markdown",
   "id": "f6a93493",
   "metadata": {},
   "source": [
    "### Task 2: Print All the Salaries"
   ]
  },
  {
   "cell_type": "code",
   "execution_count": 6,
   "id": "6465fc6f",
   "metadata": {
    "scrolled": false
   },
   "outputs": [],
   "source": [
    "# write code here"
   ]
  },
  {
   "cell_type": "markdown",
   "id": "18313d6c",
   "metadata": {},
   "source": [
    "### Task 3:  Print All the Salaries in Ascending Order"
   ]
  },
  {
   "cell_type": "code",
   "execution_count": 7,
   "id": "388a42b8",
   "metadata": {
    "scrolled": true
   },
   "outputs": [],
   "source": [
    "# write code here"
   ]
  },
  {
   "cell_type": "markdown",
   "id": "f8167f59",
   "metadata": {},
   "source": [
    "### Task 4:  Iterate through entire array and print only employee id and name"
   ]
  },
  {
   "cell_type": "code",
   "execution_count": 8,
   "id": "504c7fba",
   "metadata": {
    "scrolled": false
   },
   "outputs": [],
   "source": [
    "# write code here"
   ]
  },
  {
   "cell_type": "markdown",
   "id": "586b7e31",
   "metadata": {},
   "source": [
    "### Task 5: Print performance score of all the employees"
   ]
  },
  {
   "cell_type": "code",
   "execution_count": 11,
   "id": "1584d882",
   "metadata": {},
   "outputs": [],
   "source": [
    "# write code here"
   ]
  },
  {
   "cell_type": "markdown",
   "id": "3d9a92ef",
   "metadata": {},
   "source": [
    "### Task 6: Convert these scores to float type by using astype(float) function"
   ]
  },
  {
   "cell_type": "code",
   "execution_count": 10,
   "id": "050ee1ae",
   "metadata": {},
   "outputs": [],
   "source": [
    "# write code here"
   ]
  },
  {
   "cell_type": "markdown",
   "id": "d16afb33",
   "metadata": {},
   "source": [
    "### Task 7:  Now print the average performance score of all the employees"
   ]
  },
  {
   "cell_type": "code",
   "execution_count": 12,
   "id": "94086c24",
   "metadata": {},
   "outputs": [],
   "source": [
    "# write code here"
   ]
  },
  {
   "cell_type": "markdown",
   "id": "86902984",
   "metadata": {},
   "source": [
    "### Task 8:  Print all the unique departments. You can use np.unique function for this"
   ]
  },
  {
   "cell_type": "code",
   "execution_count": 13,
   "id": "b95ca0ef",
   "metadata": {},
   "outputs": [],
   "source": [
    "# first print departments from all the records\n",
    "\n",
    "# write code here"
   ]
  },
  {
   "cell_type": "code",
   "execution_count": 14,
   "id": "8b567172",
   "metadata": {},
   "outputs": [],
   "source": [
    "# now print unique departments\n",
    "\n",
    "# write code here"
   ]
  },
  {
   "cell_type": "markdown",
   "id": "5707cbae",
   "metadata": {},
   "source": [
    "### Task 9: Print average salary in HR department"
   ]
  },
  {
   "cell_type": "code",
   "execution_count": 1,
   "id": "2638deb2",
   "metadata": {},
   "outputs": [],
   "source": [
    "# First print all the records in HR department\n",
    "\n",
    "# write code here"
   ]
  },
  {
   "cell_type": "code",
   "execution_count": 3,
   "id": "39ea4122",
   "metadata": {},
   "outputs": [],
   "source": [
    "# Now from these records only print  the salary column. Convert that to float using astype(float) function\n",
    "\n",
    "# write code here"
   ]
  },
  {
   "cell_type": "code",
   "execution_count": 4,
   "id": "5c836bbb",
   "metadata": {},
   "outputs": [],
   "source": [
    "# Take an average of this column using np.mean() function\n",
    "\n",
    "# write code here"
   ]
  }
 ],
 "metadata": {
  "kernelspec": {
   "display_name": "Python 3 (ipykernel)",
   "language": "python",
   "name": "python3"
  },
  "language_info": {
   "codemirror_mode": {
    "name": "ipython",
    "version": 3
   },
   "file_extension": ".py",
   "mimetype": "text/x-python",
   "name": "python",
   "nbconvert_exporter": "python",
   "pygments_lexer": "ipython3",
   "version": "3.10.11"
  }
 },
 "nbformat": 4,
 "nbformat_minor": 5
}
