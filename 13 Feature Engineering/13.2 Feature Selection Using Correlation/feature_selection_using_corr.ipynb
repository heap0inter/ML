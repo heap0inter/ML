{
 "cells": [
  {
   "cell_type": "markdown",
   "id": "0ad2ec1b",
   "metadata": {},
   "source": [
    "<h3 align=\"center\">Codebasics ML Course: Using Correlation For Feature Selection<h3>"
   ]
  },
  {
   "cell_type": "code",
   "execution_count": 44,
   "id": "9615f7be",
   "metadata": {},
   "outputs": [
    {
     "data": {
      "text/html": [
       "<div>\n",
       "<style scoped>\n",
       "    .dataframe tbody tr th:only-of-type {\n",
       "        vertical-align: middle;\n",
       "    }\n",
       "\n",
       "    .dataframe tbody tr th {\n",
       "        vertical-align: top;\n",
       "    }\n",
       "\n",
       "    .dataframe thead th {\n",
       "        text-align: right;\n",
       "    }\n",
       "</style>\n",
       "<table border=\"1\" class=\"dataframe\">\n",
       "  <thead>\n",
       "    <tr style=\"text-align: right;\">\n",
       "      <th></th>\n",
       "      <th>area_sqr_ft</th>\n",
       "      <th>bedrooms</th>\n",
       "      <th>color</th>\n",
       "      <th>price_lakhs</th>\n",
       "    </tr>\n",
       "  </thead>\n",
       "  <tbody>\n",
       "    <tr>\n",
       "      <th>0</th>\n",
       "      <td>3774</td>\n",
       "      <td>2</td>\n",
       "      <td>Red</td>\n",
       "      <td>216</td>\n",
       "    </tr>\n",
       "    <tr>\n",
       "      <th>1</th>\n",
       "      <td>1460</td>\n",
       "      <td>3</td>\n",
       "      <td>Gray</td>\n",
       "      <td>88</td>\n",
       "    </tr>\n",
       "    <tr>\n",
       "      <th>2</th>\n",
       "      <td>1894</td>\n",
       "      <td>4</td>\n",
       "      <td>Gray</td>\n",
       "      <td>147</td>\n",
       "    </tr>\n",
       "    <tr>\n",
       "      <th>3</th>\n",
       "      <td>1730</td>\n",
       "      <td>2</td>\n",
       "      <td>Blue</td>\n",
       "      <td>84</td>\n",
       "    </tr>\n",
       "    <tr>\n",
       "      <th>4</th>\n",
       "      <td>1695</td>\n",
       "      <td>1</td>\n",
       "      <td>Blue</td>\n",
       "      <td>77</td>\n",
       "    </tr>\n",
       "  </tbody>\n",
       "</table>\n",
       "</div>"
      ],
      "text/plain": [
       "   area_sqr_ft  bedrooms color  price_lakhs\n",
       "0         3774         2   Red          216\n",
       "1         1460         3  Gray           88\n",
       "2         1894         4  Gray          147\n",
       "3         1730         2  Blue           84\n",
       "4         1695         1  Blue           77"
      ]
     },
     "execution_count": 44,
     "metadata": {},
     "output_type": "execute_result"
    }
   ],
   "source": [
    "import pandas as pd\n",
    "\n",
    "df = pd.read_csv(\"home_prices.csv\")\n",
    "df.head()"
   ]
  },
  {
   "cell_type": "code",
   "execution_count": 45,
   "id": "c39544ab",
   "metadata": {},
   "outputs": [
    {
     "data": {
      "text/plain": [
       "array(['Red', 'Gray', 'Blue', 'Yellow', 'Green', 'White'], dtype=object)"
      ]
     },
     "execution_count": 45,
     "metadata": {},
     "output_type": "execute_result"
    }
   ],
   "source": [
    "df.color.unique()"
   ]
  },
  {
   "cell_type": "code",
   "execution_count": 48,
   "id": "5a4bf16f",
   "metadata": {},
   "outputs": [
    {
     "data": {
      "text/html": [
       "<div>\n",
       "<style scoped>\n",
       "    .dataframe tbody tr th:only-of-type {\n",
       "        vertical-align: middle;\n",
       "    }\n",
       "\n",
       "    .dataframe tbody tr th {\n",
       "        vertical-align: top;\n",
       "    }\n",
       "\n",
       "    .dataframe thead th {\n",
       "        text-align: right;\n",
       "    }\n",
       "</style>\n",
       "<table border=\"1\" class=\"dataframe\">\n",
       "  <thead>\n",
       "    <tr style=\"text-align: right;\">\n",
       "      <th></th>\n",
       "      <th>area_sqr_ft</th>\n",
       "      <th>bedrooms</th>\n",
       "      <th>price_lakhs</th>\n",
       "      <th>color_Gray</th>\n",
       "      <th>color_Green</th>\n",
       "      <th>color_Red</th>\n",
       "      <th>color_White</th>\n",
       "      <th>color_Yellow</th>\n",
       "    </tr>\n",
       "  </thead>\n",
       "  <tbody>\n",
       "    <tr>\n",
       "      <th>0</th>\n",
       "      <td>3774</td>\n",
       "      <td>2</td>\n",
       "      <td>216</td>\n",
       "      <td>False</td>\n",
       "      <td>False</td>\n",
       "      <td>True</td>\n",
       "      <td>False</td>\n",
       "      <td>False</td>\n",
       "    </tr>\n",
       "    <tr>\n",
       "      <th>1</th>\n",
       "      <td>1460</td>\n",
       "      <td>3</td>\n",
       "      <td>88</td>\n",
       "      <td>True</td>\n",
       "      <td>False</td>\n",
       "      <td>False</td>\n",
       "      <td>False</td>\n",
       "      <td>False</td>\n",
       "    </tr>\n",
       "    <tr>\n",
       "      <th>2</th>\n",
       "      <td>1894</td>\n",
       "      <td>4</td>\n",
       "      <td>147</td>\n",
       "      <td>True</td>\n",
       "      <td>False</td>\n",
       "      <td>False</td>\n",
       "      <td>False</td>\n",
       "      <td>False</td>\n",
       "    </tr>\n",
       "    <tr>\n",
       "      <th>3</th>\n",
       "      <td>1730</td>\n",
       "      <td>2</td>\n",
       "      <td>84</td>\n",
       "      <td>False</td>\n",
       "      <td>False</td>\n",
       "      <td>False</td>\n",
       "      <td>False</td>\n",
       "      <td>False</td>\n",
       "    </tr>\n",
       "    <tr>\n",
       "      <th>4</th>\n",
       "      <td>1695</td>\n",
       "      <td>1</td>\n",
       "      <td>77</td>\n",
       "      <td>False</td>\n",
       "      <td>False</td>\n",
       "      <td>False</td>\n",
       "      <td>False</td>\n",
       "      <td>False</td>\n",
       "    </tr>\n",
       "  </tbody>\n",
       "</table>\n",
       "</div>"
      ],
      "text/plain": [
       "   area_sqr_ft  bedrooms  price_lakhs  color_Gray  color_Green  color_Red  \\\n",
       "0         3774         2          216       False        False       True   \n",
       "1         1460         3           88        True        False      False   \n",
       "2         1894         4          147        True        False      False   \n",
       "3         1730         2           84       False        False      False   \n",
       "4         1695         1           77       False        False      False   \n",
       "\n",
       "   color_White  color_Yellow  \n",
       "0        False         False  \n",
       "1        False         False  \n",
       "2        False         False  \n",
       "3        False         False  \n",
       "4        False         False  "
      ]
     },
     "execution_count": 48,
     "metadata": {},
     "output_type": "execute_result"
    }
   ],
   "source": [
    "df_encoded = pd.get_dummies(df, columns=[\"color\"], drop_first=True)\n",
    "df_encoded.head()"
   ]
  },
  {
   "cell_type": "code",
   "execution_count": 49,
   "id": "0718bbbf",
   "metadata": {},
   "outputs": [
    {
     "data": {
      "text/html": [
       "<div>\n",
       "<style scoped>\n",
       "    .dataframe tbody tr th:only-of-type {\n",
       "        vertical-align: middle;\n",
       "    }\n",
       "\n",
       "    .dataframe tbody tr th {\n",
       "        vertical-align: top;\n",
       "    }\n",
       "\n",
       "    .dataframe thead th {\n",
       "        text-align: right;\n",
       "    }\n",
       "</style>\n",
       "<table border=\"1\" class=\"dataframe\">\n",
       "  <thead>\n",
       "    <tr style=\"text-align: right;\">\n",
       "      <th></th>\n",
       "      <th>area_sqr_ft</th>\n",
       "      <th>bedrooms</th>\n",
       "      <th>price_lakhs</th>\n",
       "      <th>color_Gray</th>\n",
       "      <th>color_Green</th>\n",
       "      <th>color_Red</th>\n",
       "      <th>color_White</th>\n",
       "      <th>color_Yellow</th>\n",
       "    </tr>\n",
       "  </thead>\n",
       "  <tbody>\n",
       "    <tr>\n",
       "      <th>area_sqr_ft</th>\n",
       "      <td>1.000000</td>\n",
       "      <td>0.185810</td>\n",
       "      <td>0.945365</td>\n",
       "      <td>-0.068944</td>\n",
       "      <td>-0.032012</td>\n",
       "      <td>0.059055</td>\n",
       "      <td>0.063827</td>\n",
       "      <td>-0.037819</td>\n",
       "    </tr>\n",
       "    <tr>\n",
       "      <th>bedrooms</th>\n",
       "      <td>0.185810</td>\n",
       "      <td>1.000000</td>\n",
       "      <td>0.439445</td>\n",
       "      <td>0.040882</td>\n",
       "      <td>-0.120207</td>\n",
       "      <td>-0.004177</td>\n",
       "      <td>-0.023676</td>\n",
       "      <td>0.015286</td>\n",
       "    </tr>\n",
       "    <tr>\n",
       "      <th>price_lakhs</th>\n",
       "      <td>0.945365</td>\n",
       "      <td>0.439445</td>\n",
       "      <td>1.000000</td>\n",
       "      <td>-0.040565</td>\n",
       "      <td>-0.041959</td>\n",
       "      <td>0.045803</td>\n",
       "      <td>0.051122</td>\n",
       "      <td>-0.046673</td>\n",
       "    </tr>\n",
       "    <tr>\n",
       "      <th>color_Gray</th>\n",
       "      <td>-0.068944</td>\n",
       "      <td>0.040882</td>\n",
       "      <td>-0.040565</td>\n",
       "      <td>1.000000</td>\n",
       "      <td>-0.214409</td>\n",
       "      <td>-0.230990</td>\n",
       "      <td>-0.205931</td>\n",
       "      <td>-0.217205</td>\n",
       "    </tr>\n",
       "    <tr>\n",
       "      <th>color_Green</th>\n",
       "      <td>-0.032012</td>\n",
       "      <td>-0.120207</td>\n",
       "      <td>-0.041959</td>\n",
       "      <td>-0.214409</td>\n",
       "      <td>1.000000</td>\n",
       "      <td>-0.190117</td>\n",
       "      <td>-0.169493</td>\n",
       "      <td>-0.178771</td>\n",
       "    </tr>\n",
       "    <tr>\n",
       "      <th>color_Red</th>\n",
       "      <td>0.059055</td>\n",
       "      <td>-0.004177</td>\n",
       "      <td>0.045803</td>\n",
       "      <td>-0.230990</td>\n",
       "      <td>-0.190117</td>\n",
       "      <td>1.000000</td>\n",
       "      <td>-0.182600</td>\n",
       "      <td>-0.192596</td>\n",
       "    </tr>\n",
       "    <tr>\n",
       "      <th>color_White</th>\n",
       "      <td>0.063827</td>\n",
       "      <td>-0.023676</td>\n",
       "      <td>0.051122</td>\n",
       "      <td>-0.205931</td>\n",
       "      <td>-0.169493</td>\n",
       "      <td>-0.182600</td>\n",
       "      <td>1.000000</td>\n",
       "      <td>-0.171703</td>\n",
       "    </tr>\n",
       "    <tr>\n",
       "      <th>color_Yellow</th>\n",
       "      <td>-0.037819</td>\n",
       "      <td>0.015286</td>\n",
       "      <td>-0.046673</td>\n",
       "      <td>-0.217205</td>\n",
       "      <td>-0.178771</td>\n",
       "      <td>-0.192596</td>\n",
       "      <td>-0.171703</td>\n",
       "      <td>1.000000</td>\n",
       "    </tr>\n",
       "  </tbody>\n",
       "</table>\n",
       "</div>"
      ],
      "text/plain": [
       "              area_sqr_ft  bedrooms  price_lakhs  color_Gray  color_Green  \\\n",
       "area_sqr_ft      1.000000  0.185810     0.945365   -0.068944    -0.032012   \n",
       "bedrooms         0.185810  1.000000     0.439445    0.040882    -0.120207   \n",
       "price_lakhs      0.945365  0.439445     1.000000   -0.040565    -0.041959   \n",
       "color_Gray      -0.068944  0.040882    -0.040565    1.000000    -0.214409   \n",
       "color_Green     -0.032012 -0.120207    -0.041959   -0.214409     1.000000   \n",
       "color_Red        0.059055 -0.004177     0.045803   -0.230990    -0.190117   \n",
       "color_White      0.063827 -0.023676     0.051122   -0.205931    -0.169493   \n",
       "color_Yellow    -0.037819  0.015286    -0.046673   -0.217205    -0.178771   \n",
       "\n",
       "              color_Red  color_White  color_Yellow  \n",
       "area_sqr_ft    0.059055     0.063827     -0.037819  \n",
       "bedrooms      -0.004177    -0.023676      0.015286  \n",
       "price_lakhs    0.045803     0.051122     -0.046673  \n",
       "color_Gray    -0.230990    -0.205931     -0.217205  \n",
       "color_Green   -0.190117    -0.169493     -0.178771  \n",
       "color_Red      1.000000    -0.182600     -0.192596  \n",
       "color_White   -0.182600     1.000000     -0.171703  \n",
       "color_Yellow  -0.192596    -0.171703      1.000000  "
      ]
     },
     "execution_count": 49,
     "metadata": {},
     "output_type": "execute_result"
    }
   ],
   "source": [
    "cm = df_encoded.corr()\n",
    "cm"
   ]
  },
  {
   "cell_type": "code",
   "execution_count": 50,
   "id": "074de1b0",
   "metadata": {},
   "outputs": [
    {
     "data": {
      "text/plain": [
       "area_sqr_ft     0.945365\n",
       "bedrooms        0.439445\n",
       "price_lakhs     1.000000\n",
       "color_Gray      0.040565\n",
       "color_Green     0.041959\n",
       "color_Red       0.045803\n",
       "color_White     0.051122\n",
       "color_Yellow    0.046673\n",
       "Name: price_lakhs, dtype: float64"
      ]
     },
     "execution_count": 50,
     "metadata": {},
     "output_type": "execute_result"
    }
   ],
   "source": [
    "cm_price = abs(cm[\"price_lakhs\"]) \n",
    "cm_price"
   ]
  },
  {
   "cell_type": "code",
   "execution_count": 51,
   "id": "2ae147e2",
   "metadata": {},
   "outputs": [
    {
     "data": {
      "text/plain": [
       "Index(['area_sqr_ft', 'bedrooms'], dtype='object')"
      ]
     },
     "execution_count": 51,
     "metadata": {},
     "output_type": "execute_result"
    }
   ],
   "source": [
    "selected_features = cm_price[cm_price > 0.2].index.drop(\"price_lakhs\")\n",
    "selected_features"
   ]
  },
  {
   "cell_type": "code",
   "execution_count": 53,
   "id": "2831e59c",
   "metadata": {},
   "outputs": [
    {
     "name": "stdout",
     "output_type": "stream",
     "text": [
      "R2: 0.9689466488379601 MSE: 76.63332198278805\n"
     ]
    }
   ],
   "source": [
    "from sklearn.model_selection import train_test_split\n",
    "from sklearn.linear_model import LinearRegression\n",
    "from sklearn.metrics import r2_score, mean_squared_error\n",
    "\n",
    "X = df[selected_features] \n",
    "# X = df[[\"area_sqr_ft\", \"bedrooms\", \"color_encoded\"]]\n",
    "y = df['price_lakhs']\n",
    "\n",
    "X_train, X_test, y_train, y_test = train_test_split(X, y, test_size=0.2, random_state=42)\n",
    "\n",
    "# Train a Linear Regression model\n",
    "model = LinearRegression()\n",
    "model.fit(X_train, y_train)\n",
    "\n",
    "# Predict and evaluate the model\n",
    "y_pred = model.predict(X_test)\n",
    "mse = mean_squared_error(y_test, y_pred)\n",
    "r2 = r2_score(y_test, y_pred)\n",
    "\n",
    "print(\"R2:\", r2, \"MSE:\", mse)"
   ]
  },
  {
   "cell_type": "markdown",
   "id": "5e743a8c",
   "metadata": {},
   "source": [
    "Dropping unnecessary features (or doing feature selection) helps in saving compute power. In many cases, it helps in increasing model accuracy and overall performance"
   ]
  }
 ],
 "metadata": {
  "kernelspec": {
   "display_name": "Python 3 (ipykernel)",
   "language": "python",
   "name": "python3"
  },
  "language_info": {
   "codemirror_mode": {
    "name": "ipython",
    "version": 3
   },
   "file_extension": ".py",
   "mimetype": "text/x-python",
   "name": "python",
   "nbconvert_exporter": "python",
   "pygments_lexer": "ipython3",
   "version": "3.10.11"
  }
 },
 "nbformat": 4,
 "nbformat_minor": 5
}
