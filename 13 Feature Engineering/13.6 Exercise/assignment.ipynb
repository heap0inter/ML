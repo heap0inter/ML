{
 "cells": [
  {
   "cell_type": "markdown",
   "id": "3c16f4aa-6d8b-41d9-b4ed-cb9235270295",
   "metadata": {},
   "source": [
    "### Problem Statement\n",
    "\n",
    "You are a data scientist / AI engineer working on an environmental impact analysis project. You have been provided with a dataset named **`\"environmental_impact_data.csv\"`**, which includes various socio-economic and environmental factors influencing the environmental impact score of different regions. The dataset comprises the following columns:\n",
    "\n",
    "- `pollution_level:` The pollution level in AQI (Air Quality Index).\n",
    "- `resource_consumption:` The resource consumption in tons.\n",
    "- `population_density:` The population density in people per km².\n",
    "- `economic_activity:` The economic activity in millions.\n",
    "- `industrial_activity:` The industrial activity in index units.\n",
    "- `traffic_density:` The traffic density in vehicles per km.\n",
    "- `waste_generation:` The waste generation in kg per capita.\n",
    "- `renewable_energy_usage:` The renewable energy usage in percentage.\n",
    "- `air_quality_index:` The air quality index.\n",
    "- `carbon_footprint:` The carbon footprint in tons per year.\n",
    "- `environmental_impact_score:` The environmental impact score ranging from 0 to 100.\n",
    "\n",
    "Your task is to analyze this dataset to understand the relationships between these factors and the environmental impact score. You will also evaluate multicollinearity among the features using correlation and Variance Inflation Factor (VIF). Finally, you will build machine learning models to predict the environmental impact score based on the selected features."
   ]
  },
  {
   "cell_type": "markdown",
   "id": "fd9885ef-5340-45a5-a6ee-596b778d82d5",
   "metadata": {},
   "source": [
    "**Import Necessary Libraries**"
   ]
  },
  {
   "cell_type": "code",
   "execution_count": 12,
   "id": "ad251b9e-06da-464f-886f-942ce544e66a",
   "metadata": {},
   "outputs": [],
   "source": [
    "#Import the necessary libraries\n",
    "\n"
   ]
  },
  {
   "cell_type": "markdown",
   "id": "6bab4d69-7659-42d3-9a88-1b7c038234b9",
   "metadata": {},
   "source": [
    "### Task 1: Data Preparation and Exploration\n",
    "\n",
    "1. Import the data from the `\"environmental_impact_data.csv\"` file and store it in a DataFrame.\n",
    "2. Display the number of rows and columns in the dataset.\n",
    "3. Display the first few rows of the dataset to get an overview.\n",
    "4. Use the `describe()` function to get the complete statistics for each feature."
   ]
  },
  {
   "cell_type": "code",
   "execution_count": 1,
   "id": "54761e59-2989-45a4-baf9-3bddfe955717",
   "metadata": {},
   "outputs": [],
   "source": [
    "# Step 1: Import the data\n",
    "\n",
    "\n",
    "# Step 2: Display the number of rows and columns\n",
    "\n",
    "\n",
    "# Step 3: Display the first few rows of the dataset\n"
   ]
  },
  {
   "cell_type": "code",
   "execution_count": 2,
   "id": "bbf67a94-a23d-48f5-b509-f54c71e9e97c",
   "metadata": {},
   "outputs": [],
   "source": [
    "# Step 4: Use describe() function to get the summary statistics for each feature\n",
    "\n"
   ]
  },
  {
   "cell_type": "markdown",
   "id": "e53b7439-6098-419a-9049-7516fe11b026",
   "metadata": {},
   "source": [
    "### Task 2: Feature Selection Using Correlation\n",
    "\n",
    "1. Compute the correlation matrix for the dataset.\n",
    "2. Visualize the correlation matrix using a heatmap.\n",
    "3. Select features based on correlation with the target variable `(environmental_impact_score)` and a threshold of 0.25.\n",
    "4. Print the selected features.\n",
    "5. Split the data into training and test sets and train a `Linear Regression model` using the selected features.\n",
    "6. Predict and evaluate the model using R-squared and Mean Squared Error (MSE)."
   ]
  },
  {
   "cell_type": "code",
   "execution_count": 3,
   "id": "cb90dbac-35f8-4f5e-82bf-19b59f31cb1c",
   "metadata": {},
   "outputs": [],
   "source": [
    "# Step 1: Calculate the correlation matrix\n",
    "\n",
    "\n",
    "# Step 2: Visualize the correlation matrix using a heatmap\n",
    "\n"
   ]
  },
  {
   "cell_type": "code",
   "execution_count": 4,
   "id": "83ddb5f5-8570-43cc-9d4d-ecabbd3d06ca",
   "metadata": {},
   "outputs": [],
   "source": [
    "# Step 3: Select features based on correlation with the target variable\n",
    "\n",
    "\n",
    "# Step4: Print the selected features.\n"
   ]
  },
  {
   "cell_type": "code",
   "execution_count": 5,
   "id": "92d8840e-0c62-49c3-83d7-91a933cead2c",
   "metadata": {},
   "outputs": [],
   "source": [
    "# Step5: Split the data into training and test sets and train a Linear Regression model using the selected features.\n",
    "\n",
    "# Split the data into training and test sets using the selected features from correlation method\n",
    "\n",
    "\n",
    "# train a Linear Regression model\n",
    "\n",
    "\n",
    "\n",
    "# Step6: Predict and evaluate the model using R-squared and Mean Squared Error (MSE).\n",
    "\n",
    "# Predict and evaluate the model\n",
    "\n"
   ]
  },
  {
   "cell_type": "markdown",
   "id": "3dc03c67-1fd1-4681-8686-a0c510026a1b",
   "metadata": {},
   "source": [
    "### Task 3: Feature Selection Using VIF\n",
    "\n",
    "1. Apply MinMax scaling to normalize the numerical features to a common scale.\n",
    "2. Compute the `Variance Inflation Factor (VIF)` for each of the features in the scaled data,  except target variable.\n",
    "3. Filter out features with a VIF greater than 8.\n",
    "4. Print the filtered features.\n",
    "5. Split the data into training and test sets and train a `Linear Regression model` using the selected features.\n",
    "6. Predict and evaluate the model using R-squared and Mean Squared Error (MSE)."
   ]
  },
  {
   "cell_type": "code",
   "execution_count": 6,
   "id": "9dc5f26a-ea15-420a-9797-915db4b64a68",
   "metadata": {},
   "outputs": [],
   "source": [
    "# Step 1: Apply MinMax scaling to normalize the numerical features (store in new dataframe)\n"
   ]
  },
  {
   "cell_type": "code",
   "execution_count": 8,
   "id": "e19d5499-f5c2-4426-853f-10b0821cd512",
   "metadata": {},
   "outputs": [],
   "source": [
    "# Step 2: Compute the Variance Inflation Factor (VIF) for each of the features except target variable.\n"
   ]
  },
  {
   "cell_type": "code",
   "execution_count": 9,
   "id": "fd4c751a-404b-4bb2-beb4-fa4ac7c7d0c7",
   "metadata": {},
   "outputs": [],
   "source": [
    "# Step3: Filter out features with a VIF greater than 8.\n",
    "\n",
    "\n",
    "# Step4: Print the filtered features.\n"
   ]
  },
  {
   "cell_type": "code",
   "execution_count": 10,
   "id": "8dfdf7de-ecc8-4629-baa5-07bf163bf868",
   "metadata": {},
   "outputs": [],
   "source": [
    "# Step5: Split the data into training and test sets and train a Linear Regression model using the selected features.\n",
    "\n",
    "# Split the data into training and test sets using the selected features from VIF\n",
    "\n",
    "\n",
    "\n",
    "# train a Linear Regression model\n",
    "\n",
    "\n",
    "\n",
    "# Step6: Predict and evaluate the model using R-squared and Mean Squared Error (MSE).\n",
    "\n",
    "\n",
    "# Predict and evaluate the model\n"
   ]
  }
 ],
 "metadata": {
  "kernelspec": {
   "display_name": "Python 3 (ipykernel)",
   "language": "python",
   "name": "python3"
  },
  "language_info": {
   "codemirror_mode": {
    "name": "ipython",
    "version": 3
   },
   "file_extension": ".py",
   "mimetype": "text/x-python",
   "name": "python",
   "nbconvert_exporter": "python",
   "pygments_lexer": "ipython3",
   "version": "3.10.11"
  }
 },
 "nbformat": 4,
 "nbformat_minor": 5
}
