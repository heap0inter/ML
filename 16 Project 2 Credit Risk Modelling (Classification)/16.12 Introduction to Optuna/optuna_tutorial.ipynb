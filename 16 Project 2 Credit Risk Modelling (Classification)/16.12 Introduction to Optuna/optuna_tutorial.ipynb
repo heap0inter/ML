{
 "cells": [
  {
   "cell_type": "markdown",
   "id": "38506dfe",
   "metadata": {},
   "source": [
    "<h2 align=\"center\" style=\"color:blue\">Codebasics ML Course: Optuna Tutorial</h2>"
   ]
  },
  {
   "cell_type": "code",
   "execution_count": 6,
   "id": "3bff2a14",
   "metadata": {},
   "outputs": [],
   "source": [
    "import numpy as np\n",
    "from sklearn.datasets import load_iris\n",
    "from sklearn.linear_model import LogisticRegression\n",
    "from sklearn.model_selection import GridSearchCV, train_test_split\n",
    "from sklearn.metrics import classification_report\n",
    "from sklearn.datasets import make_classification"
   ]
  },
  {
   "cell_type": "code",
   "execution_count": 7,
   "id": "9e236383",
   "metadata": {},
   "outputs": [
    {
     "data": {
      "text/plain": [
       "array([1.00000000e-04, 7.74263683e-04, 5.99484250e-03, 4.64158883e-02,\n",
       "       3.59381366e-01, 2.78255940e+00, 2.15443469e+01, 1.66810054e+02,\n",
       "       1.29154967e+03, 1.00000000e+04])"
      ]
     },
     "execution_count": 7,
     "metadata": {},
     "output_type": "execute_result"
    }
   ],
   "source": [
    "np.logspace(-4, 4, 10)"
   ]
  },
  {
   "cell_type": "markdown",
   "id": "c843c3f0",
   "metadata": {},
   "source": [
    "### Generate Dataset"
   ]
  },
  {
   "cell_type": "code",
   "execution_count": 10,
   "id": "e21389c2",
   "metadata": {},
   "outputs": [],
   "source": [
    "X, y = make_classification(\n",
    "    n_features=10, \n",
    "    n_samples=1000, \n",
    "    n_informative=8,\n",
    "    n_redundant=2,\n",
    "    n_repeated=0,\n",
    "    n_classes=2, \n",
    "    random_state=42\n",
    ")"
   ]
  },
  {
   "cell_type": "markdown",
   "id": "842607de",
   "metadata": {},
   "source": [
    "### Hyperparameter Tunning Using GridSearchCV"
   ]
  },
  {
   "cell_type": "code",
   "execution_count": 30,
   "id": "bac1e6a5",
   "metadata": {
    "scrolled": false
   },
   "outputs": [
    {
     "name": "stdout",
     "output_type": "stream",
     "text": [
      "Fitting 3 folds for each of 25 candidates, totalling 75 fits\n",
      "Best parameters found:  {'C': 1, 'solver': 'liblinear'}\n",
      "Best cross-validation score: 0.72\n",
      "Test set evaluation:\n",
      "              precision    recall  f1-score   support\n",
      "\n",
      "           0       0.73      0.62      0.67       106\n",
      "           1       0.63      0.73      0.68        94\n",
      "\n",
      "    accuracy                           0.68       200\n",
      "   macro avg       0.68      0.68      0.67       200\n",
      "weighted avg       0.68      0.68      0.67       200\n",
      "\n"
     ]
    }
   ],
   "source": [
    "X_train, X_test, y_train, y_test = train_test_split(X, y, test_size=0.2, random_state=42)\n",
    "\n",
    "# Define the model\n",
    "model = LogisticRegression(max_iter=2000)\n",
    "\n",
    "# Define the parameter grid\n",
    "param_grid = {\n",
    "    'C': [1, 2, 3, 4, 5],\n",
    "    'solver': ['newton-cg', 'lbfgs', 'liblinear', 'sag', 'saga']  # Different solvers\n",
    "}\n",
    "\n",
    "# Create GridSearchCV object\n",
    "grid_search = GridSearchCV(estimator=model, param_grid=param_grid, cv=3, verbose=1, scoring='accuracy')\n",
    "\n",
    "# Perform the grid search\n",
    "grid_search.fit(X_train, y_train)\n",
    "\n",
    "# Best parameters and best score\n",
    "print(\"Best parameters found: \", grid_search.best_params_)\n",
    "print(\"Best cross-validation score: {:.2f}\".format(grid_search.best_score_))\n",
    "\n",
    "# Evaluate on the test set\n",
    "best_model = grid_search.best_estimator_\n",
    "y_pred = best_model.predict(X_test)\n",
    "print(\"Test set evaluation:\")\n",
    "print(classification_report(y_test, y_pred))"
   ]
  },
  {
   "cell_type": "markdown",
   "id": "e0d1c111",
   "metadata": {},
   "source": [
    "### Hyperparameter Tunning Using Optuna"
   ]
  },
  {
   "cell_type": "code",
   "execution_count": 36,
   "id": "2ff2a1ec",
   "metadata": {
    "scrolled": false
   },
   "outputs": [],
   "source": [
    "import optuna\n",
    "import numpy as np\n",
    "from sklearn.linear_model import LogisticRegression\n",
    "from sklearn.model_selection import cross_val_score"
   ]
  },
  {
   "cell_type": "code",
   "execution_count": 33,
   "id": "ba56a6d2",
   "metadata": {
    "scrolled": false
   },
   "outputs": [
    {
     "name": "stderr",
     "output_type": "stream",
     "text": [
      "[I 2024-07-17 17:41:30,682] A new study created in memory with name: no-name-9911cc24-d88a-4ead-bc7a-b754e769276b\n",
      "[I 2024-07-17 17:41:30,716] Trial 0 finished with value: 0.687996379613146 and parameters: {'C': 1.4219065255338297, 'solver': 'sag'}. Best is trial 0 with value: 0.687996379613146.\n",
      "[I 2024-07-17 17:41:30,732] Trial 1 finished with value: 0.687996379613146 and parameters: {'C': 4.570354157570347, 'solver': 'lbfgs'}. Best is trial 0 with value: 0.687996379613146.\n",
      "[I 2024-07-17 17:41:30,748] Trial 2 finished with value: 0.687996379613146 and parameters: {'C': 3.4362183020084025, 'solver': 'liblinear'}. Best is trial 0 with value: 0.687996379613146.\n",
      "[I 2024-07-17 17:41:30,764] Trial 3 finished with value: 0.687996379613146 and parameters: {'C': 3.014939817825534, 'solver': 'sag'}. Best is trial 0 with value: 0.687996379613146.\n",
      "[I 2024-07-17 17:41:30,780] Trial 4 finished with value: 0.687996379613146 and parameters: {'C': 3.891678000949935, 'solver': 'saga'}. Best is trial 0 with value: 0.687996379613146.\n",
      "[I 2024-07-17 17:41:30,798] Trial 5 finished with value: 0.6889973806141471 and parameters: {'C': 1.0564542420205165, 'solver': 'newton-cg'}. Best is trial 5 with value: 0.6889973806141471.\n",
      "[I 2024-07-17 17:41:30,815] Trial 6 finished with value: 0.687996379613146 and parameters: {'C': 2.0484302245889716, 'solver': 'sag'}. Best is trial 5 with value: 0.6889973806141471.\n",
      "[I 2024-07-17 17:41:30,831] Trial 7 finished with value: 0.687996379613146 and parameters: {'C': 2.169431902038784, 'solver': 'sag'}. Best is trial 5 with value: 0.6889973806141471.\n",
      "[I 2024-07-17 17:41:30,849] Trial 8 finished with value: 0.687996379613146 and parameters: {'C': 2.442630644322691, 'solver': 'lbfgs'}. Best is trial 5 with value: 0.6889973806141471.\n",
      "[I 2024-07-17 17:41:30,864] Trial 9 finished with value: 0.687996379613146 and parameters: {'C': 1.9037356575200843, 'solver': 'saga'}. Best is trial 5 with value: 0.6889973806141471.\n"
     ]
    },
    {
     "name": "stdout",
     "output_type": "stream",
     "text": [
      "Best parameters: {'C': 1.0564542420205165, 'solver': 'newton-cg'}\n",
      "Best cross-validation accuracy: 0.6889973806141471\n"
     ]
    }
   ],
   "source": [
    "# Define the objective function to be optimized\n",
    "def objective(trial):\n",
    "    # Suggest values for the hyperparameters\n",
    "    C = trial.suggest_float(\"C\", 1, 5)\n",
    "    solver = trial.suggest_categorical(\"solver\", [\"newton-cg\", \"lbfgs\", \"liblinear\", \"sag\", \"saga\"])\n",
    "    \n",
    "    # Create the model with suggested hyperparameters\n",
    "    model = LogisticRegression(C=C, solver=solver, max_iter=2000)\n",
    "\n",
    "    # Evaluate the model: the negative mean accuracy is returned because Optuna looks for minimum\n",
    "    score = cross_val_score(model, X, y, n_jobs=-1, cv=3)\n",
    "    accuracy = np.mean(score)\n",
    "\n",
    "    return accuracy\n",
    "\n",
    "# Create a study object and specify the optimization direction\n",
    "study = optuna.create_study(direction='maximize')\n",
    "\n",
    "# Perform the optimization\n",
    "study.optimize(objective, n_trials=10)\n",
    "\n",
    "# Results\n",
    "print(\"Best parameters:\", study.best_params)\n",
    "print(\"Best cross-validation accuracy:\", study.best_value)"
   ]
  },
  {
   "cell_type": "code",
   "execution_count": 34,
   "id": "c215d27e",
   "metadata": {},
   "outputs": [
    {
     "name": "stdout",
     "output_type": "stream",
     "text": [
      "              precision    recall  f1-score   support\n",
      "\n",
      "           0       0.73      0.62      0.67       106\n",
      "           1       0.63      0.73      0.68        94\n",
      "\n",
      "    accuracy                           0.68       200\n",
      "   macro avg       0.68      0.68      0.67       200\n",
      "weighted avg       0.68      0.68      0.67       200\n",
      "\n"
     ]
    }
   ],
   "source": [
    "best_model = LogisticRegression(**study.best_params, max_iter=2000)\n",
    "best_model.fit(X_train, y_train)\n",
    "\n",
    "# Evaluate the model on the test set\n",
    "y_pred = best_model.predict(X_test)\n",
    "\n",
    "report = classification_report(y_test, y_pred)\n",
    "print(report)"
   ]
  }
 ],
 "metadata": {
  "kernelspec": {
   "display_name": "Python 3 (ipykernel)",
   "language": "python",
   "name": "python3"
  },
  "language_info": {
   "codemirror_mode": {
    "name": "ipython",
    "version": 3
   },
   "file_extension": ".py",
   "mimetype": "text/x-python",
   "name": "python",
   "nbconvert_exporter": "python",
   "pygments_lexer": "ipython3",
   "version": "3.10.11"
  }
 },
 "nbformat": 4,
 "nbformat_minor": 5
}
