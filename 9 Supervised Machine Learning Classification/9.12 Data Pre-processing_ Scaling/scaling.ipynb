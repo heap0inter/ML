{
 "cells": [
  {
   "cell_type": "markdown",
   "id": "b4eb0d9d",
   "metadata": {},
   "source": [
    "<h2 align=\"center\">Codebasics ML Course: Support Vector Machine Tutorial</h2>"
   ]
  },
  {
   "cell_type": "markdown",
   "id": "0c7ac926",
   "metadata": {},
   "source": [
    "### Problem Statement:  Classify raisins into one of the two categories,\n",
    "1. Kecimen\n",
    "1. Besni"
   ]
  },
  {
   "cell_type": "markdown",
   "id": "5c9ce3c5",
   "metadata": {},
   "source": [
    "### Dataset Citation\n",
    "This dataset is used under citation guidelines from the original authors. For detailed study and dataset description, see the following references:\n",
    "\n",
    "- **Citation**: Cinar, I., Koklu, M., & Tasdemir, S. (2020). Classification of Raisin Grains Using Machine Vision and Artificial Intelligence Methods. *Gazi Journal of Engineering Sciences, 6*(3), 200-209. DOI: [10.30855/gmbd.2020.03.03](https://doi.org/10.30855/gmbd.2020.03.03)\n",
    "- **Dataset available at**: [Murat Koklu's Dataset Page](https://www.muratkoklu.com/datasets/)\n",
    "- **Article download**: [DergiPark](https://dergipark.org.tr/tr/download/article-file/1227592)\n"
   ]
  },
  {
   "cell_type": "code",
   "execution_count": 1,
   "id": "bed33402",
   "metadata": {
    "scrolled": false
   },
   "outputs": [
    {
     "data": {
      "text/html": [
       "<div>\n",
       "<style scoped>\n",
       "    .dataframe tbody tr th:only-of-type {\n",
       "        vertical-align: middle;\n",
       "    }\n",
       "\n",
       "    .dataframe tbody tr th {\n",
       "        vertical-align: top;\n",
       "    }\n",
       "\n",
       "    .dataframe thead th {\n",
       "        text-align: right;\n",
       "    }\n",
       "</style>\n",
       "<table border=\"1\" class=\"dataframe\">\n",
       "  <thead>\n",
       "    <tr style=\"text-align: right;\">\n",
       "      <th></th>\n",
       "      <th>Area</th>\n",
       "      <th>MajorAxisLength</th>\n",
       "      <th>MinorAxisLength</th>\n",
       "      <th>Eccentricity</th>\n",
       "      <th>ConvexArea</th>\n",
       "      <th>Extent</th>\n",
       "      <th>Perimeter</th>\n",
       "      <th>Class</th>\n",
       "    </tr>\n",
       "  </thead>\n",
       "  <tbody>\n",
       "    <tr>\n",
       "      <th>598</th>\n",
       "      <td>89236</td>\n",
       "      <td>389.681692</td>\n",
       "      <td>295.331936</td>\n",
       "      <td>0.652394</td>\n",
       "      <td>92014</td>\n",
       "      <td>0.696993</td>\n",
       "      <td>1144.036</td>\n",
       "      <td>Besni</td>\n",
       "    </tr>\n",
       "    <tr>\n",
       "      <th>763</th>\n",
       "      <td>109438</td>\n",
       "      <td>502.729338</td>\n",
       "      <td>280.343741</td>\n",
       "      <td>0.830081</td>\n",
       "      <td>113476</td>\n",
       "      <td>0.635473</td>\n",
       "      <td>1323.557</td>\n",
       "      <td>Besni</td>\n",
       "    </tr>\n",
       "    <tr>\n",
       "      <th>515</th>\n",
       "      <td>188651</td>\n",
       "      <td>621.012686</td>\n",
       "      <td>390.307613</td>\n",
       "      <td>0.777808</td>\n",
       "      <td>192922</td>\n",
       "      <td>0.747156</td>\n",
       "      <td>1698.394</td>\n",
       "      <td>Besni</td>\n",
       "    </tr>\n",
       "    <tr>\n",
       "      <th>221</th>\n",
       "      <td>64988</td>\n",
       "      <td>371.353628</td>\n",
       "      <td>226.909934</td>\n",
       "      <td>0.791604</td>\n",
       "      <td>67847</td>\n",
       "      <td>0.670118</td>\n",
       "      <td>1048.186</td>\n",
       "      <td>Kecimen</td>\n",
       "    </tr>\n",
       "    <tr>\n",
       "      <th>833</th>\n",
       "      <td>78921</td>\n",
       "      <td>376.987817</td>\n",
       "      <td>268.832612</td>\n",
       "      <td>0.701055</td>\n",
       "      <td>82584</td>\n",
       "      <td>0.719924</td>\n",
       "      <td>1144.959</td>\n",
       "      <td>Besni</td>\n",
       "    </tr>\n",
       "  </tbody>\n",
       "</table>\n",
       "</div>"
      ],
      "text/plain": [
       "       Area  MajorAxisLength  MinorAxisLength  Eccentricity  ConvexArea  \\\n",
       "598   89236       389.681692       295.331936      0.652394       92014   \n",
       "763  109438       502.729338       280.343741      0.830081      113476   \n",
       "515  188651       621.012686       390.307613      0.777808      192922   \n",
       "221   64988       371.353628       226.909934      0.791604       67847   \n",
       "833   78921       376.987817       268.832612      0.701055       82584   \n",
       "\n",
       "       Extent  Perimeter    Class  \n",
       "598  0.696993   1144.036    Besni  \n",
       "763  0.635473   1323.557    Besni  \n",
       "515  0.747156   1698.394    Besni  \n",
       "221  0.670118   1048.186  Kecimen  \n",
       "833  0.719924   1144.959    Besni  "
      ]
     },
     "execution_count": 1,
     "metadata": {},
     "output_type": "execute_result"
    }
   ],
   "source": [
    "import pandas as pd\n",
    "\n",
    "df = pd.read_excel(\"Raisin_Dataset.xlsx\")\n",
    "df.sample(5)"
   ]
  },
  {
   "cell_type": "code",
   "execution_count": 2,
   "id": "3a2ba4e3",
   "metadata": {},
   "outputs": [
    {
     "data": {
      "text/plain": [
       "(900, 8)"
      ]
     },
     "execution_count": 2,
     "metadata": {},
     "output_type": "execute_result"
    }
   ],
   "source": [
    "df.shape"
   ]
  },
  {
   "cell_type": "markdown",
   "id": "e9b7aaa6",
   "metadata": {},
   "source": [
    "There are total 900 records and using all the features that we have available, we will build a classification model by using support vector machine "
   ]
  },
  {
   "cell_type": "markdown",
   "id": "c25cc18c",
   "metadata": {},
   "source": [
    "### Train Test Split"
   ]
  },
  {
   "cell_type": "code",
   "execution_count": 3,
   "id": "6f2e7c62",
   "metadata": {},
   "outputs": [],
   "source": [
    "X = df[[\"Area\", \"MajorAxisLength\", \"MinorAxisLength\", \"Eccentricity\", \"ConvexArea\", \"Extent\", \"Perimeter\"]]\n",
    "y = df[\"Class\"]\n",
    "\n",
    "from sklearn.model_selection import train_test_split\n",
    "\n",
    "X_train, X_test, y_train, y_test = train_test_split(X, y, test_size=0.2, random_state=10)"
   ]
  },
  {
   "cell_type": "markdown",
   "id": "a79fba59",
   "metadata": {},
   "source": [
    "### Scale the Data"
   ]
  },
  {
   "cell_type": "code",
   "execution_count": 4,
   "id": "e26f7a22",
   "metadata": {},
   "outputs": [],
   "source": [
    "from sklearn.preprocessing import StandardScaler\n",
    "\n",
    "scaler = StandardScaler()\n",
    "scaler.fit(X_train)\n",
    "\n",
    "X_train_scaled = scaler.transform(X_train)\n",
    "X_test_scaled = scaler.transform(X_test)"
   ]
  },
  {
   "cell_type": "markdown",
   "id": "1703b87e",
   "metadata": {},
   "source": [
    "### Model Training Using SVM: RBF Kernel: No Scaling"
   ]
  },
  {
   "cell_type": "code",
   "execution_count": 5,
   "id": "205e27e3",
   "metadata": {
    "scrolled": false
   },
   "outputs": [
    {
     "name": "stdout",
     "output_type": "stream",
     "text": [
      "              precision    recall  f1-score   support\n",
      "\n",
      "       Besni       0.86      0.75      0.80        83\n",
      "     Kecimen       0.81      0.90      0.85        97\n",
      "\n",
      "    accuracy                           0.83       180\n",
      "   macro avg       0.83      0.82      0.82       180\n",
      "weighted avg       0.83      0.83      0.83       180\n",
      "\n"
     ]
    },
    {
     "data": {
      "text/plain": [
       "array([229], dtype=int32)"
      ]
     },
     "execution_count": 5,
     "metadata": {},
     "output_type": "execute_result"
    }
   ],
   "source": [
    "from sklearn.svm import SVC\n",
    "\n",
    "model = SVC(kernel=\"rbf\")\n",
    "model.fit(X_train, y_train)\n",
    "\n",
    "y_pred = model.predict(X_test)\n",
    "\n",
    "from sklearn.metrics import classification_report\n",
    "\n",
    "report = classification_report(y_test, y_pred)\n",
    "print(report)\n",
    "\n",
    "model.n_iter_"
   ]
  },
  {
   "cell_type": "markdown",
   "id": "d4703777",
   "metadata": {},
   "source": [
    "### Model Training Using SVM: RBF Kernel: With Scaling"
   ]
  },
  {
   "cell_type": "code",
   "execution_count": 6,
   "id": "2794ea20",
   "metadata": {
    "scrolled": false
   },
   "outputs": [
    {
     "name": "stdout",
     "output_type": "stream",
     "text": [
      "              precision    recall  f1-score   support\n",
      "\n",
      "       Besni       0.91      0.83      0.87        83\n",
      "     Kecimen       0.87      0.93      0.90        97\n",
      "\n",
      "    accuracy                           0.88       180\n",
      "   macro avg       0.89      0.88      0.88       180\n",
      "weighted avg       0.88      0.88      0.88       180\n",
      "\n"
     ]
    },
    {
     "data": {
      "text/plain": [
       "array([382], dtype=int32)"
      ]
     },
     "execution_count": 6,
     "metadata": {},
     "output_type": "execute_result"
    }
   ],
   "source": [
    "from sklearn.svm import SVC\n",
    "\n",
    "model = SVC(kernel=\"rbf\")\n",
    "model.fit(X_train_scaled, y_train)\n",
    "\n",
    "y_pred = model.predict(X_test_scaled)\n",
    "\n",
    "from sklearn.metrics import classification_report\n",
    "\n",
    "report = classification_report(y_test, y_pred)\n",
    "print(report)\n",
    "\n",
    "model.n_iter_"
   ]
  },
  {
   "cell_type": "markdown",
   "id": "ed8c5c79",
   "metadata": {},
   "source": [
    "As you can see above, after scaling the model performance (accuracy, precision, recall) improves. With scaled data training requires a few more iterations but it is not too big, on the other hand precision, recall, accuracy improvements can be very valuable"
   ]
  },
  {
   "cell_type": "markdown",
   "id": "09c8a9ad",
   "metadata": {},
   "source": [
    "### Model Training Using SVM: Linear Kernel: No Scaling"
   ]
  },
  {
   "cell_type": "code",
   "execution_count": 7,
   "id": "87044e83",
   "metadata": {},
   "outputs": [
    {
     "name": "stdout",
     "output_type": "stream",
     "text": [
      "              precision    recall  f1-score   support\n",
      "\n",
      "       Besni       0.91      0.88      0.90        83\n",
      "     Kecimen       0.90      0.93      0.91        97\n",
      "\n",
      "    accuracy                           0.91       180\n",
      "   macro avg       0.91      0.90      0.90       180\n",
      "weighted avg       0.91      0.91      0.91       180\n",
      "\n"
     ]
    },
    {
     "data": {
      "text/plain": [
       "array([85005907], dtype=int32)"
      ]
     },
     "execution_count": 7,
     "metadata": {},
     "output_type": "execute_result"
    }
   ],
   "source": [
    "from sklearn.svm import SVC\n",
    "\n",
    "model = SVC(kernel=\"linear\")\n",
    "model.fit(X_train, y_train)\n",
    "\n",
    "y_pred = model.predict(X_test)\n",
    "\n",
    "from sklearn.metrics import classification_report\n",
    "\n",
    "report = classification_report(y_test, y_pred)\n",
    "print(report)\n",
    "\n",
    "model.n_iter_"
   ]
  },
  {
   "cell_type": "markdown",
   "id": "ac891df0",
   "metadata": {},
   "source": [
    "### Model Training Using SVM: Linear Kernel: With Scaling"
   ]
  },
  {
   "cell_type": "code",
   "execution_count": 8,
   "id": "75253ccc",
   "metadata": {
    "scrolled": true
   },
   "outputs": [
    {
     "name": "stdout",
     "output_type": "stream",
     "text": [
      "              precision    recall  f1-score   support\n",
      "\n",
      "       Besni       0.90      0.84      0.87        83\n",
      "     Kecimen       0.87      0.92      0.89        97\n",
      "\n",
      "    accuracy                           0.88       180\n",
      "   macro avg       0.88      0.88      0.88       180\n",
      "weighted avg       0.88      0.88      0.88       180\n",
      "\n"
     ]
    },
    {
     "data": {
      "text/plain": [
       "array([1214], dtype=int32)"
      ]
     },
     "execution_count": 8,
     "metadata": {},
     "output_type": "execute_result"
    }
   ],
   "source": [
    "from sklearn.svm import SVC\n",
    "\n",
    "model = SVC(kernel=\"linear\")\n",
    "model.fit(X_train_scaled, y_train)\n",
    "\n",
    "y_pred = model.predict(X_test_scaled)\n",
    "\n",
    "from sklearn.metrics import classification_report\n",
    "\n",
    "report = classification_report(y_test, y_pred)\n",
    "print(report)\n",
    "\n",
    "model.n_iter_"
   ]
  },
  {
   "cell_type": "markdown",
   "id": "bf0ca19f",
   "metadata": {},
   "source": [
    "For linear kernal, scaling the data reduced the number of iterations drastically (down to 1214 from 85005907). The model performance on the other hand is more or less the same. There is some difference but nothing major."
   ]
  }
 ],
 "metadata": {
  "kernelspec": {
   "display_name": "Python 3 (ipykernel)",
   "language": "python",
   "name": "python3"
  },
  "language_info": {
   "codemirror_mode": {
    "name": "ipython",
    "version": 3
   },
   "file_extension": ".py",
   "mimetype": "text/x-python",
   "name": "python",
   "nbconvert_exporter": "python",
   "pygments_lexer": "ipython3",
   "version": "3.10.11"
  }
 },
 "nbformat": 4,
 "nbformat_minor": 5
}
