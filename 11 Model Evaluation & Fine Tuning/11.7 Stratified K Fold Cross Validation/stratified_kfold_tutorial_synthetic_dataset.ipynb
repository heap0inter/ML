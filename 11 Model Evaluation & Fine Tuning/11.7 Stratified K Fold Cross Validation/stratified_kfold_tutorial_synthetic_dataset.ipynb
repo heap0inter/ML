{
 "cells": [
  {
   "cell_type": "markdown",
   "id": "ba702399",
   "metadata": {},
   "source": [
    "<h3 align=\"center\">Codebasics ML Course: Stratified K Fold Cross Validation</h3>"
   ]
  },
  {
   "cell_type": "markdown",
   "id": "9429aa3c",
   "metadata": {},
   "source": [
    "We will generate a synthetic dataset"
   ]
  },
  {
   "cell_type": "code",
   "execution_count": 1,
   "id": "e308a8b0",
   "metadata": {},
   "outputs": [],
   "source": [
    "import numpy as np\n",
    "import matplotlib.pyplot as plt\n",
    "from sklearn.datasets import make_classification\n",
    "from sklearn.linear_model import LogisticRegression\n",
    "from sklearn.model_selection import train_test_split\n",
    "\n",
    "X, y = make_classification(\n",
    "    n_features=10, \n",
    "    n_samples=1000, \n",
    "    n_informative=8,\n",
    "    n_redundant=2,\n",
    "    n_repeated=0,\n",
    "    n_classes=2, \n",
    "    weights = [0.9, 0.1],\n",
    "    random_state=42\n",
    ")\n",
    "\n",
    "# Split data into training and test sets\n",
    "X_train, X_test, y_train, y_test = train_test_split(X, y, test_size=0.3, random_state=42)"
   ]
  },
  {
   "cell_type": "code",
   "execution_count": 3,
   "id": "2a9dcda2",
   "metadata": {},
   "outputs": [
    {
     "data": {
      "text/plain": [
       "Counter({0: 897, 1: 103})"
      ]
     },
     "execution_count": 3,
     "metadata": {},
     "output_type": "execute_result"
    }
   ],
   "source": [
    "from collections import Counter\n",
    "\n",
    "Counter(y)"
   ]
  },
  {
   "cell_type": "code",
   "execution_count": 16,
   "id": "c092ae89",
   "metadata": {
    "scrolled": true
   },
   "outputs": [],
   "source": [
    "from sklearn.model_selection import KFold\n",
    "\n",
    "kf = KFold(n_splits=5, shuffle=True, random_state=42)"
   ]
  },
  {
   "cell_type": "code",
   "execution_count": 17,
   "id": "4277f564",
   "metadata": {},
   "outputs": [
    {
     "name": "stdout",
     "output_type": "stream",
     "text": [
      "Counter({0: 177, 1: 23})\n",
      "Counter({0: 179, 1: 21})\n",
      "Counter({0: 183, 1: 17})\n",
      "Counter({0: 181, 1: 19})\n",
      "Counter({0: 177, 1: 23})\n"
     ]
    }
   ],
   "source": [
    "for train_index, test_index in kf.split(X, y):\n",
    "    X_train, X_test = X[train_index], X[test_index]\n",
    "    y_train, y_test = y[train_index], y[test_index]\n",
    "    print(Counter(y_test))    "
   ]
  },
  {
   "cell_type": "code",
   "execution_count": 18,
   "id": "093d2847",
   "metadata": {},
   "outputs": [
    {
     "name": "stdout",
     "output_type": "stream",
     "text": [
      "Counter({0: 180, 1: 20})\n",
      "Counter({0: 180, 1: 20})\n",
      "Counter({0: 179, 1: 21})\n",
      "Counter({0: 179, 1: 21})\n",
      "Counter({0: 179, 1: 21})\n"
     ]
    }
   ],
   "source": [
    "from sklearn.model_selection import StratifiedKFold\n",
    "\n",
    "skf = StratifiedKFold(n_splits=5, shuffle=True, random_state=42)\n",
    "\n",
    "for train_index, test_index in skf.split(X, y):\n",
    "    X_train, X_test = X[train_index], X[test_index]\n",
    "    y_train, y_test = y[train_index], y[test_index]\n",
    "    print(Counter(y_test))    "
   ]
  },
  {
   "cell_type": "markdown",
   "id": "75c0cdad",
   "metadata": {},
   "source": [
    "### Cross validation on Logistic Regression"
   ]
  },
  {
   "cell_type": "code",
   "execution_count": 19,
   "id": "8aa7d70e",
   "metadata": {},
   "outputs": [
    {
     "data": {
      "text/plain": [
       "array([0.915, 0.91 , 0.895, 0.895, 0.895])"
      ]
     },
     "execution_count": 19,
     "metadata": {},
     "output_type": "execute_result"
    }
   ],
   "source": [
    "from sklearn.model_selection import cross_val_score\n",
    "\n",
    "cross_val_score(LogisticRegression(), X, y, cv=skf, scoring=\"accuracy\")"
   ]
  },
  {
   "cell_type": "markdown",
   "id": "e562c975",
   "metadata": {},
   "source": [
    "### Cross validation on Decision Tree"
   ]
  },
  {
   "cell_type": "code",
   "execution_count": 20,
   "id": "0f48b352",
   "metadata": {},
   "outputs": [
    {
     "data": {
      "text/plain": [
       "array([0.915, 0.905, 0.885, 0.85 , 0.9  ])"
      ]
     },
     "execution_count": 20,
     "metadata": {},
     "output_type": "execute_result"
    }
   ],
   "source": [
    "from sklearn.tree import DecisionTreeClassifier\n",
    "cross_val_score(DecisionTreeClassifier(), X, y, cv=skf, scoring=\"accuracy\")"
   ]
  },
  {
   "cell_type": "markdown",
   "id": "5b3d01a7",
   "metadata": {},
   "source": [
    "### Cross validation on Random Forest"
   ]
  },
  {
   "cell_type": "code",
   "execution_count": 21,
   "id": "edd29ed5",
   "metadata": {},
   "outputs": [
    {
     "data": {
      "text/plain": [
       "array([0.925, 0.91 , 0.91 , 0.9  , 0.91 ])"
      ]
     },
     "execution_count": 21,
     "metadata": {},
     "output_type": "execute_result"
    }
   ],
   "source": [
    "from sklearn.ensemble import RandomForestClassifier\n",
    "cross_val_score(RandomForestClassifier(n_estimators=10), X, y, cv=skf, scoring=\"accuracy\")"
   ]
  },
  {
   "cell_type": "markdown",
   "id": "61247ec3",
   "metadata": {},
   "source": [
    "### Cross validation with cv as int parameter"
   ]
  },
  {
   "cell_type": "code",
   "execution_count": 24,
   "id": "5d4fb9c3",
   "metadata": {},
   "outputs": [
    {
     "data": {
      "text/plain": [
       "array([0.915, 0.905, 0.91 , 0.935, 0.915])"
      ]
     },
     "execution_count": 24,
     "metadata": {},
     "output_type": "execute_result"
    }
   ],
   "source": [
    "cross_val_score(RandomForestClassifier(n_estimators=10), X, y, cv=5, scoring=\"accuracy\")"
   ]
  },
  {
   "cell_type": "markdown",
   "id": "337a9d48",
   "metadata": {},
   "source": [
    "When you supply int parameter in cv and if the estimater is a classifier, it will be default use Stratified K Fold where k is set to the number that you specified for cv"
   ]
  }
 ],
 "metadata": {
  "kernelspec": {
   "display_name": "Python 3 (ipykernel)",
   "language": "python",
   "name": "python3"
  },
  "language_info": {
   "codemirror_mode": {
    "name": "ipython",
    "version": 3
   },
   "file_extension": ".py",
   "mimetype": "text/x-python",
   "name": "python",
   "nbconvert_exporter": "python",
   "pygments_lexer": "ipython3",
   "version": "3.10.11"
  }
 },
 "nbformat": 4,
 "nbformat_minor": 5
}
