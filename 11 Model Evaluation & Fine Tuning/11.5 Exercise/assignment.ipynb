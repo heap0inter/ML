{
 "cells": [
  {
   "cell_type": "markdown",
   "id": "a49f2a2b-8df5-44eb-8902-0ce84d5ec99f",
   "metadata": {},
   "source": [
    "### Problem Statement\n",
    "\n",
    "You are a data scientist / AI engineer working on a classification problem to predict the likelihood of heart failure events based on clinical records. You have been provided with a dataset named **`\"heart_failure_clinical_records.csv\"`** which includes various clinical parameters of patients. The dataset comprises the following columns:\n",
    "\n",
    "- age: Age of the patient (years)\n",
    "- anaemia: Decrease of red blood cells or hemoglobin (boolean)\n",
    "- creatinine_phosphokinase: Level of the CPK enzyme in the blood (mcg/L)\n",
    "- diabetes: If the patient has diabetes (boolean)\n",
    "- ejection_fraction: Percentage of blood leaving the heart at each contraction (percentage)\n",
    "- high_blood_pressure: If the patient has hypertension (boolean)\n",
    "- platelets: Platelets in the blood (kiloplatelets/mL)\n",
    "- serum_creatinine: Level of serum creatinine in the blood (mg/dL)\n",
    "- serum_sodium: Level of serum sodium in the blood (mEq/L)\n",
    "- sex: Sex of the patient (binary, 1 for male, 0 for female)\n",
    "- smoking: If the patient smokes or not (boolean)\n",
    "- time: Follow-up period (days)\n",
    "- death_event: If the patient died during the follow-up period (boolean)\n",
    "\n",
    "Your task is to use this dataset to build and evaluate machine learning models to predict heart failure events. You will perform data preprocessing, exploratory data analysis, and model training using GaussianNB, SVM, and XGBoost. Additionally, you will use ROC curves to analyze model performance and make cost-benefit decisions.\n",
    "\n",
    "**Dataset credits:** Heart Failure Clinical Records. (2020). UCI Machine Learning Repository. https://doi.org/10.24432/C5Z89R.\n",
    "\r\n"
   ]
  },
  {
   "cell_type": "markdown",
   "id": "05230157-293d-4a4b-8835-62734f8a6d1b",
   "metadata": {},
   "source": [
    "**Import Necessary Libraries**"
   ]
  },
  {
   "cell_type": "code",
   "execution_count": 1,
   "id": "bfa8f7c1-6124-4bb5-b9a2-e96ee927ffba",
   "metadata": {},
   "outputs": [],
   "source": [
    "# Import Necessary Libraries\n",
    "\n"
   ]
  },
  {
   "cell_type": "markdown",
   "id": "d8929e9b-af7b-4eb9-bab3-16895951c005",
   "metadata": {},
   "source": [
    "### Task 1: Data Preprocessing and Exploratory Data Analysis\n",
    "\n",
    "1. Import the data from the `\"heart_failure_clinical_records.csv\"` file and store it in a DataFrame.\n",
    "2. Display the number of rows and columns in the dataset.\n",
    "3. Display the first few rows of the dataset to get an overview.\n",
    "4. Check for missing values and handle them appropriately.\n",
    "5. Perform basic statistical analysis and visualization to understand the distribution of each feature.\n",
    "    - Use `histograms` for continuous features (age, creatinine_phosphokinase, ejection_fraction, platelets, serum_creatinine, serum_sodium, time).\n",
    "    - Use `bar plots` for binary features (anaemia, diabetes, high_blood_pressure, sex, smoking)."
   ]
  },
  {
   "cell_type": "code",
   "execution_count": 2,
   "id": "87c7b092-de05-4f68-b01f-2e33eb30018c",
   "metadata": {},
   "outputs": [],
   "source": [
    "\n",
    "# Import the data from the \"heart_failure_clinical_records.csv\" file and store it in a DataFrame.\n",
    "\n",
    "\n",
    "\n",
    "# Display the number of rows and columns in the dataset.\n",
    "\n",
    "\n",
    "\n",
    "# Display the first few rows of the dataset to get an overview\n"
   ]
  },
  {
   "cell_type": "code",
   "execution_count": 3,
   "id": "e73bdc47-14b0-49b8-811e-6a8af1424be5",
   "metadata": {},
   "outputs": [],
   "source": [
    "# Check for missing values and handle them appropriately.\n",
    "\n"
   ]
  },
  {
   "cell_type": "code",
   "execution_count": 4,
   "id": "5d78283a-fe62-4d2e-8434-4309ed566176",
   "metadata": {},
   "outputs": [],
   "source": [
    "# Perform basic statistical analysis and visualization to understand the distribution of each feature\n",
    "\n",
    "#i) Histograms for continuous features (age, creatinine_phosphokinase, ejection_fraction, platelets, serum_creatinine, serum_sodium, time).\n",
    "\n"
   ]
  },
  {
   "cell_type": "code",
   "execution_count": 5,
   "id": "795c1827-d334-49a8-a7e3-79bd129ee1b0",
   "metadata": {},
   "outputs": [],
   "source": [
    "# Bar plots for binary features (anaemia, diabetes, high_blood_pressure, sex, smoking).\n"
   ]
  },
  {
   "cell_type": "markdown",
   "id": "ba8a45b0-e930-4a15-8717-b900ce49abde",
   "metadata": {},
   "source": [
    "### Task 2: Feature Transformation\n",
    "\n",
    "1. Split the dataset into training and test sets with a test size of 25%.\n",
    "2. Normalize continuous features (age, creatinine_phosphokinase, ejection_fraction, platelets, serum_creatinine, serum_sodium, time) using StandardScaler."
   ]
  },
  {
   "cell_type": "code",
   "execution_count": 6,
   "id": "12c61e9b-fd8b-49d4-999a-2be986c7d7f3",
   "metadata": {},
   "outputs": [],
   "source": [
    "# Split the dataset into training and test sets\n",
    "\n"
   ]
  },
  {
   "cell_type": "code",
   "execution_count": 7,
   "id": "d36ccc08-7fe2-43a9-9cc7-f06feaac1dd3",
   "metadata": {},
   "outputs": [],
   "source": [
    "# Normalize continuous features using StandardScaler\n",
    "\n"
   ]
  },
  {
   "cell_type": "markdown",
   "id": "e0ba2760-26e5-42ce-adca-9871a60d3b72",
   "metadata": {},
   "source": [
    "### Task 3: Model Training and Evaluation with GaussianNB\n",
    "\n",
    "1. Initialize and train a `GaussianNB` model using the training data.\n",
    "2. Print the classification report to evaluate the model's performance.\n",
    "3. Calculate the AUC for the GaussianNB model.\n",
    "4. Find the probability threshold associated with a desired recall of 85% and print the corresponding false positive rate."
   ]
  },
  {
   "cell_type": "code",
   "execution_count": 8,
   "id": "d03f4333-708c-464f-8307-970dc3265bda",
   "metadata": {},
   "outputs": [],
   "source": [
    "# Initialize and train a GaussianNB model\n",
    "\n",
    "\n",
    "\n",
    "# Print the classification report\n"
   ]
  },
  {
   "cell_type": "code",
   "execution_count": 9,
   "id": "402ba079-bed9-42da-8723-aad4550e7be1",
   "metadata": {},
   "outputs": [],
   "source": [
    "# Calculate the AUC for the GaussianNB model.\n",
    "\n"
   ]
  },
  {
   "cell_type": "code",
   "execution_count": 10,
   "id": "1b34b86a-2329-456d-b7b7-dc911965f05e",
   "metadata": {},
   "outputs": [],
   "source": [
    "# Find the probability threshold associated with 85% recall\n",
    "\n"
   ]
  },
  {
   "cell_type": "markdown",
   "id": "16300276-feb4-4d87-a688-18e211ff08cc",
   "metadata": {},
   "source": [
    "### Task 4: Model Training and Evaluation with SVM\n",
    "\n",
    "1. Initialize and train an `SVM` model with a linear kernel using the training data.\n",
    "2. Print the classification report to evaluate the model's performance.\n",
    "3. Calculate the AUC for the SVM model.\n",
    "4. Find the probability threshold associated with a desired recall of 90% and print the corresponding false positive rate."
   ]
  },
  {
   "cell_type": "code",
   "execution_count": 11,
   "id": "da69166f-e546-4f0d-b129-8a33f924bfbc",
   "metadata": {},
   "outputs": [],
   "source": [
    "# Initialize and train an SVM model with a linear kernel\n",
    "\n",
    "\n",
    "\n",
    "# Print the classification report\n",
    "\n"
   ]
  },
  {
   "cell_type": "code",
   "execution_count": 12,
   "id": "dd82f44a-6a4c-41b0-9e7f-b625b1868ad1",
   "metadata": {},
   "outputs": [],
   "source": [
    "# Calculate the AUC\n",
    "\n"
   ]
  },
  {
   "cell_type": "code",
   "execution_count": 13,
   "id": "70098534-e32d-4c84-946b-d2761fcdd41a",
   "metadata": {},
   "outputs": [],
   "source": [
    "# Find the probability threshold associated with 90% recall\n",
    "\n"
   ]
  },
  {
   "cell_type": "markdown",
   "id": "5489a5e0-bf7c-4b44-a764-cd9007b2dffe",
   "metadata": {},
   "source": [
    "### Task 5: Model Training and Evaluation with XGBoost\n",
    "\n",
    "1. Initialize and train an `XGBoost` model using the training data.\n",
    "2. Print the classification report to evaluate the model's performance.\n",
    "3. Calculate the AUC for the XGBoost model."
   ]
  },
  {
   "cell_type": "code",
   "execution_count": 14,
   "id": "b5842b7a-4f38-4fed-bb63-a5a0bd1bb06d",
   "metadata": {},
   "outputs": [],
   "source": [
    "\n",
    "# Initialize and train an XGBoost model\n",
    "\n",
    "\n",
    "\n",
    "# Print the classification report\n",
    "\n",
    "\n"
   ]
  },
  {
   "cell_type": "code",
   "execution_count": 15,
   "id": "7c3f7ee7-1ec5-4afc-854c-e276605b533c",
   "metadata": {},
   "outputs": [],
   "source": [
    "# Calculate the AUC\n"
   ]
  },
  {
   "cell_type": "markdown",
   "id": "098a9f80-af3d-4354-8189-e95108a18cbd",
   "metadata": {},
   "source": [
    "### Task 6: Summary and Conclusion\n",
    "\n",
    "1. Plot the ROC curves for `GaussianNB, SVM, and XGBoost` models on the same chart.\n",
    "2. Summarize the results and compare the performance of the models."
   ]
  },
  {
   "cell_type": "code",
   "execution_count": 16,
   "id": "4d6af809-da02-414a-a473-29c5f2fcf627",
   "metadata": {},
   "outputs": [],
   "source": [
    "# Plot the ROC curves for all models\n"
   ]
  },
  {
   "cell_type": "markdown",
   "id": "75e7d0a7-5108-4f03-b39e-e6f845d9ad39",
   "metadata": {},
   "source": [
    "### Conclusion\n",
    "\n",
    "--------\n",
    "--------\n"
   ]
  }
 ],
 "metadata": {
  "kernelspec": {
   "display_name": "Python 3 (ipykernel)",
   "language": "python",
   "name": "python3"
  },
  "language_info": {
   "codemirror_mode": {
    "name": "ipython",
    "version": 3
   },
   "file_extension": ".py",
   "mimetype": "text/x-python",
   "name": "python",
   "nbconvert_exporter": "python",
   "pygments_lexer": "ipython3",
   "version": "3.10.11"
  }
 },
 "nbformat": 4,
 "nbformat_minor": 5
}
