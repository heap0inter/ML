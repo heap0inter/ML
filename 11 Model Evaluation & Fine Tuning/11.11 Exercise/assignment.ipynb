{
 "cells": [
  {
   "cell_type": "markdown",
   "id": "13621968-955f-4a53-96f0-7f5a8ae6bb26",
   "metadata": {},
   "source": [
    "### Problem Statement\n",
    "\n",
    "You are a data scientist working on a classification problem to predict whether a hotel reservation will be canceled or not. You have been provided with a dataset named **`\"hotel_reservations.csv\"`**, which includes various attributes related to hotel bookings. The dataset comprises the following columns:\n",
    "\n",
    "- `booking_id:` unique identifier of each booking\n",
    "- `no_of_adults:` Number of adults\n",
    "- `no_of_children:` Number of Children\n",
    "- `no_of_weekend_nights:` Number of weekend nights (Saturday or Sunday) the guest stayed or booked to stay at the hotel\n",
    "- `no_of_week_nights:` Number of week nights (Monday to Friday) the guest stayed or booked to stay at the hotel\n",
    "- `type_of_meal_plan:` Type of meal plan booked by the customer\n",
    "- `required_car_parking_space:` Does the customer require a car parking space? (0 - No, 1- Yes)\n",
    "- `room_type_reserved:` Type of room reserved by the customer. The values are ciphered (encoded) by INN Hotels\n",
    "- `lead_time:` Number of days between the date of booking and the arrival date\n",
    "- `arrival_year:` Year of arrival date\n",
    "- `arrival_month:` Month of arrival date\n",
    "- `arrival_date:` Date of the month\n",
    "- `market_segment_type:` Market segment designation\n",
    "- `repeated_guest:` Is the customer a repeated guest? (0 - No, 1- Yes)\n",
    "- `no_of_previous_cancellations:` Number of previous bookings that were canceled by the customer prior to the current booking\n",
    "- `no_of_previous_bookings_not_canceled:` Number of previous bookings not canceled by the customer prior to the current booking\n",
    "- `avg_price_per_room:` Average price per day of the reservation; prices of the rooms are dynamic (in euros)\n",
    "- `no_of_special_requests:` Total number of special requests made by the customer (e.g. high floor, view from the room, etc)\n",
    "- `booking_status:` Flag indicating if the booking was canceled or not (Not_Canceled = 0, Canceled = 1)\n",
    "\n",
    "\n",
    "You will perform data preprocessing, exploratory data analysis, and model training using different algorithms, including logistic regression, decision tree, random forest, and Naive Bayes. Additionally, you will implement k-fold cross-validation, stratified k-fold cross-validation, grid search, and randomized search techniques.\n",
    "\n",
    "**Dataset Credits:** Ahsan Raza (https://www.kaggle.com/datasets/ahsan81/hotel-reservations-classification-dataset)"
   ]
  },
  {
   "cell_type": "markdown",
   "id": "850a6f9e-f365-4461-86f8-de7d9b9e4c8a",
   "metadata": {},
   "source": [
    "**Import Necessary Libraries**\r\n"
   ]
  },
  {
   "cell_type": "code",
   "execution_count": 1,
   "id": "b698c6a7-2eca-4597-8491-228b408f5b95",
   "metadata": {},
   "outputs": [],
   "source": [
    "# Import Necessary Libraries\n"
   ]
  },
  {
   "cell_type": "markdown",
   "id": "4f8ae767-7820-4ee1-97ee-b557a8b3cf99",
   "metadata": {},
   "source": [
    "### Task 1: Data Preprocessing and EDA\n",
    "\n",
    "1. Import the data from the `\"hotel_reservations.csv\"` file and store it in a variable df.\n",
    "2. Display the number of rows and columns in the dataset.\n",
    "3. Display the first few rows of the dataset to get an overview.\n",
    "5. Remove the columns `booking_id, arrival_year, arrival_month, and arrival_date` as they do not add significant value to the predictive model.\n",
    "6. Visualize the booking_status using a count plot.\n",
    "7. Visualize the lead time for canceled and not canceled bookings using a box plot.\n",
    "8. Visualize the average price per room for canceled and not canceled bookings using a box plot.\n",
    "9. Encode categorical variables: type_of_meal_plan, room_type_reserved, and market_segment_type using one-hot encoding."
   ]
  },
  {
   "cell_type": "code",
   "execution_count": 1,
   "id": "7a6e3a54-d6cf-4f1c-afb4-263795c556a5",
   "metadata": {},
   "outputs": [],
   "source": [
    "# Import the data from the \"hotel_reservations.csv\" file and store it in a variable df.\n",
    "\n",
    "\n",
    "# Display the number of rows and columns in the dataset\n",
    "\n",
    "\n",
    "# Display the first few rows of the dataset to get an overview\n"
   ]
  },
  {
   "cell_type": "code",
   "execution_count": 2,
   "id": "85656408-8ede-4882-8857-aa4af0600efd",
   "metadata": {},
   "outputs": [],
   "source": [
    "# Remove the columns booking_id, arrival_year, arrival_month, and arrival_date\n"
   ]
  },
  {
   "cell_type": "code",
   "execution_count": 3,
   "id": "e0bfc7fd-82ac-4e2c-b106-18305d16b4db",
   "metadata": {},
   "outputs": [],
   "source": [
    "# Visualize the booking_status\n"
   ]
  },
  {
   "cell_type": "code",
   "execution_count": 4,
   "id": "786d4970-c07b-4b0a-907b-ab6b4bf4b667",
   "metadata": {},
   "outputs": [],
   "source": [
    "# Visualize the lead time for canceled and not canceled bookings using a box plot\n"
   ]
  },
  {
   "cell_type": "code",
   "execution_count": 6,
   "id": "ed3e2c1b-6349-472b-ad70-f4262090cbce",
   "metadata": {},
   "outputs": [],
   "source": [
    "# Visualize the average price per room for canceled and not canceled bookingssns.boxplot(x='booking_status', y='avg_price_per_room', data=df)\n",
    "\n"
   ]
  },
  {
   "cell_type": "code",
   "execution_count": 7,
   "id": "bb31d0bd-70ed-4abb-8208-992a46ed8cba",
   "metadata": {},
   "outputs": [],
   "source": [
    "# Encode categorical variables : type_of_meal_plan, room_type_reserved, and market_segment_type using one-hot encoding.\n",
    "\n"
   ]
  },
  {
   "cell_type": "markdown",
   "id": "8bdadfa5-82fa-4269-bf88-e0a7d4c2590b",
   "metadata": {},
   "source": [
    "### Task 2: Feature Scaling\n",
    "\n",
    "1. Standardize the numerical features `lead_time` and `avg_price_per_room`.\n",
    "2. Define features (X) and target (y)."
   ]
  },
  {
   "cell_type": "code",
   "execution_count": 8,
   "id": "2ba88a8c-f4ce-40d2-aa44-aebef10e5d67",
   "metadata": {},
   "outputs": [],
   "source": [
    "# Standardize the numerical features\n",
    "\n",
    "\n",
    "\n",
    "# Define features(X) and target (y: booking_status)\n",
    "\n"
   ]
  },
  {
   "cell_type": "markdown",
   "id": "a59f3db0-78af-4351-9c59-7e38041e00ad",
   "metadata": {},
   "source": [
    "### Task 3: Implementing K-Fold Cross Validation\n",
    "\n",
    "1. Initialize a KFold cross-validator with 7 splits.\n",
    "2. Perform k-fold cross-validation using Naive Bayes and calculate the average accuracy.\n",
    "3. Perform k-fold cross-validation using a Logistic Regression and calculate the average accuracy.\n",
    "4. Perform k-fold cross-validation using a decision tree classifier and calculate the average accuracy."
   ]
  },
  {
   "cell_type": "code",
   "execution_count": 9,
   "id": "f3b070a5-a770-40a7-a797-caea858adc14",
   "metadata": {},
   "outputs": [],
   "source": [
    "\n",
    "# Initialize KFold with 7 splits.\n",
    "\n",
    "\n",
    "# Cross validation with Naive Bayes\n",
    "\n",
    "\n",
    "# Cross validation with Logistic Regression\n",
    "\n",
    "\n",
    "# Cross validation with Decision Tree\n",
    "\n"
   ]
  },
  {
   "cell_type": "markdown",
   "id": "91254ab6-6cf6-4a05-97f7-3cf9777b71ed",
   "metadata": {},
   "source": [
    "### Task 4: Implementing Stratified K-Fold Cross Validation\n",
    "\n",
    "1. Initialize a StratifiedKFold cross-validator with 7 splits\n",
    "2. Perform stratified k-fold cross-validation using Naive Bayes and calculate the average accuracy.\n",
    "3. Perform stratified k-fold cross-validation using a Logistic Regression and calculate the average accuracy.\n",
    "4. Perform stratified k-fold cross-validation using a Decision Tree classifier and calculate the average accuracy."
   ]
  },
  {
   "cell_type": "code",
   "execution_count": 10,
   "id": "2aa1f6e8-3b66-42b8-8cef-475df9ae695d",
   "metadata": {},
   "outputs": [],
   "source": [
    "# Initialize a StratifiedKFold cross-validator with 7 splits\n",
    "\n",
    "\n",
    "# Perform stratified k-fold cross-validation using Naive Bayes\n",
    "\n",
    "\n",
    "\n",
    "# Perform stratified k-fold cross-validation using a Logistic Regression\n",
    "\n",
    "\n",
    "\n",
    "# Perform stratified k-fold cross-validation using a Decision Tree classifier\n",
    "\n"
   ]
  },
  {
   "cell_type": "markdown",
   "id": "ba3f2609-25d0-45a4-b6ae-c51dc073537c",
   "metadata": {},
   "source": [
    "### Task 5: Implementing Grid Search CV\n",
    "\n",
    "1. Initialize GridSearchCV with Naive Bayes and Random Forest:\n",
    "    - Naive Bayes: var_smoothing [1e-9, 1e-8, 1e-7]\n",
    "    - Random Forest: n_estimators [10, 50, 100], max_depth [5, 10, 15]\n",
    "<br></br>\n",
    "2. Fit GridSearchCV with Naive Bayes and Random Forest, and find the best parameters.\n",
    "3. Print the best parameters for each model."
   ]
  },
  {
   "cell_type": "code",
   "execution_count": 11,
   "id": "dc539d77-36d6-48ca-865f-ad72b32ba91c",
   "metadata": {},
   "outputs": [],
   "source": [
    "# Initialize GridSearchCV with Naive Bayes and Random Forest \n",
    "\n",
    "\n",
    "\n",
    "# Fit GridSearchCV with Naive Bayes and Random Forest, and find the best parameters.\n",
    "\n",
    "\n",
    "\n",
    "# Print the best parameters for each model.\n"
   ]
  },
  {
   "cell_type": "markdown",
   "id": "5ba1f5ac-0a19-49c1-a245-b6fe627643b1",
   "metadata": {},
   "source": [
    "### Task 6: Implementing Randomized Search CV\n",
    "\n",
    "1. Initialize RandomizedSearchCV for RandomForest with the given parameters:\n",
    "   - Random Forest: n_estimators [10, 50, 100], max_depth [5, 10, 15, 20]\n",
    "<br></br>\n",
    "2. Fit RandomizedSearchCV with RandomForest model and find the best parameters.\n",
    "2. Print the best parameters."
   ]
  },
  {
   "cell_type": "code",
   "execution_count": 12,
   "id": "574520f1-d067-4ad8-8513-33a82a697cc0",
   "metadata": {},
   "outputs": [],
   "source": [
    "# Initialize RandomizedSearchCV and fit with RandomForest model\n",
    "\n",
    "\n",
    "# Print Best Parameters\n"
   ]
  }
 ],
 "metadata": {
  "kernelspec": {
   "display_name": "Python 3 (ipykernel)",
   "language": "python",
   "name": "python3"
  },
  "language_info": {
   "codemirror_mode": {
    "name": "ipython",
    "version": 3
   },
   "file_extension": ".py",
   "mimetype": "text/x-python",
   "name": "python",
   "nbconvert_exporter": "python",
   "pygments_lexer": "ipython3",
   "version": "3.10.11"
  }
 },
 "nbformat": 4,
 "nbformat_minor": 5
}
