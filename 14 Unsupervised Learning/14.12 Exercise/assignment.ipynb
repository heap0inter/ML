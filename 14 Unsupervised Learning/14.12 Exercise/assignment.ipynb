{
 "cells": [
  {
   "cell_type": "markdown",
   "id": "281d6a0b-7067-4813-aeb2-9c1c328a95ea",
   "metadata": {},
   "source": [
    "### Problem Statement\n",
    "\n",
    "You are a data scientist / AI engineer working on an unsupervised learning problem. You have been provided with a dataset named **`\"wine_clustering_data.csv\"`**, which includes information about various attributes from a chemical analysis of wines. The dataset comprises the following columns:\n",
    "\n",
    "- `alcohol:` Alcohol content in the wine.\n",
    "- `malic_acid:` Malic acid content in the wine.\n",
    "- `ash:` Ash content in the wine.\n",
    "- `ash_alcanity:` Alcalinity of the ash in the wine.\n",
    "- `magnesium:` Magnesium content in the wine.\n",
    "- `total_phenols:` Total phenolic content in the wine.\n",
    "- `flavanoids:` Flavanoid content in the wine.\n",
    "- `nonflavanoid_phenols:` Nonflavanoid phenolic content in the wine.\n",
    "- proanthocyanins:` Proanthocyanin content in the wine.\n",
    "- `color_intensity:` Color intensity of the wine.\n",
    "- `hue:` Hue of the wine.\n",
    "- `od280:` OD280/OD315 ratio of the wine.\n",
    "- `proline:` Proline content in the wine.\n",
    "\n",
    "Your task is to use this dataset to apply `DBSCAN clustering` to identify natural groupings based on these chemical properties. You will also visualize the clusters.\n",
    "\n",
    "**Dataset credits:** UCI Machine Learning Repository (https://archive.ics.uci.edu/ml/datasets/wine)"
   ]
  },
  {
   "cell_type": "markdown",
   "id": "d5ca56a0-6d86-4d16-8e58-09eddac4c8a5",
   "metadata": {},
   "source": [
    "**Import Necessary Libraries**"
   ]
  },
  {
   "cell_type": "code",
   "execution_count": 1,
   "id": "c0ef964a-05fb-46c3-936d-6e79a9ea95d6",
   "metadata": {},
   "outputs": [],
   "source": [
    "# Import necessary libraries\n",
    "\n"
   ]
  },
  {
   "cell_type": "markdown",
   "id": "a6218ee0-45cc-42c8-b3f3-f323344de62c",
   "metadata": {},
   "source": [
    "### Task 1: Data Preparation and Exploration\n",
    "\n",
    "1. Import the data from the `\"wine_clustering_data.csv\"` file and store it in a variable df.\n",
    "2. Display the number of rows and columns in the dataset.\n",
    "3. Display the first few rows of the dataset to get an overview.\n",
    "4. Use `describe()` to get the summary statistics for each feature.\n",
    "5. Visualize the distribution of each feature using histograms."
   ]
  },
  {
   "cell_type": "code",
   "execution_count": 2,
   "id": "7ef81fac-7c25-4d71-a46b-3ba0fd84af34",
   "metadata": {},
   "outputs": [],
   "source": [
    "# Step 1: Import the dataset\n",
    "\n",
    "\n",
    "# Step 2: Display the number of rows and columns in the dataset\n",
    "\n",
    "\n",
    "# Step 3: Display the first few rows of the dataset to get an overview\n"
   ]
  },
  {
   "cell_type": "code",
   "execution_count": 3,
   "id": "bf72c16d-5fb0-4be1-980d-3988dcc5c51a",
   "metadata": {},
   "outputs": [],
   "source": [
    "# Step 4: Use describe() to get the summary statistics for each feature\n"
   ]
  },
  {
   "cell_type": "code",
   "execution_count": 4,
   "id": "8e0e4c00-f6e0-4a6c-a1fa-19ec4a4ce080",
   "metadata": {},
   "outputs": [],
   "source": [
    "# Step 5: Visualize the distribution of each feature using histograms\n"
   ]
  },
  {
   "cell_type": "markdown",
   "id": "a50dc0db-0c44-4804-bef2-a7c4e2bfbb63",
   "metadata": {},
   "source": [
    "### Task 2: Standardization\n",
    "\n",
    "1. Use `StandardScaler` to standardize the numerical features, ensuring they have a mean of 0 and a standard deviation of 1, bringing all features onto a common scale."
   ]
  },
  {
   "cell_type": "code",
   "execution_count": 6,
   "id": "027f4bb2-7059-4e12-ad85-6bc3da314887",
   "metadata": {},
   "outputs": [],
   "source": [
    "\n",
    "\n",
    "# show few rows\n"
   ]
  },
  {
   "cell_type": "markdown",
   "id": "aa2cfbca-55ce-462e-93b2-60270cf91d98",
   "metadata": {},
   "source": [
    "### Task 3: Initial DBSCAN Clustering\n",
    "\n",
    "1. Apply DBSCAN clustering to the standardized data with `eps=2 and min_samples=2`.\n",
    "2. Add the cluster labels to the original DataFrame.\n",
    "3. Visualize the clusters using a scatter plot for a pair of features (e.g., alcohol and malic_acid)."
   ]
  },
  {
   "cell_type": "code",
   "execution_count": 7,
   "id": "6096b4cb-ec11-4a4d-baed-c22bc534e4ce",
   "metadata": {},
   "outputs": [],
   "source": [
    "# Step 1: Apply DBSCAN clustering to the standardized data with eps=2 and min_samples=2\n",
    "\n"
   ]
  },
  {
   "cell_type": "code",
   "execution_count": 8,
   "id": "8980b815-2557-464c-bb0a-32d5a96f6078",
   "metadata": {},
   "outputs": [],
   "source": [
    "\n",
    "# Step 2: Add the cluster labels to the original DataFrame\n",
    "\n",
    "\n",
    "#show few rows\n"
   ]
  },
  {
   "cell_type": "code",
   "execution_count": 9,
   "id": "65183590-88fa-4a29-85cf-100279012e1b",
   "metadata": {},
   "outputs": [],
   "source": [
    "\n",
    "# Step 3: Visualize the clusters using a scatter plot for a pair of features\n"
   ]
  },
  {
   "cell_type": "markdown",
   "id": "8adb9daa-37b8-4e4a-bfae-85c0c5f58e42",
   "metadata": {},
   "source": [
    "### Task 4: Parameter Tuning\n",
    "\n",
    "1. Experiment with different values of eps (2, 3.5, 4) and min_samples (2, 4, 6) to see how the clustering results change.\n",
    "2. Visualize the clusters using scatter plots with different parameter settings for a pair of features (e.g., alcohol and malic_acid)."
   ]
  },
  {
   "cell_type": "code",
   "execution_count": 10,
   "id": "a31a1e6e-0db0-40bb-a979-622050cd92a4",
   "metadata": {},
   "outputs": [],
   "source": [
    "# Task 4: Parameter Tuning\n",
    "\n",
    "# Experiment with different values of `eps` (2, 3.5, 4) and `min_samples` (2, 4, 6)\n"
   ]
  }
 ],
 "metadata": {
  "kernelspec": {
   "display_name": "Python 3 (ipykernel)",
   "language": "python",
   "name": "python3"
  },
  "language_info": {
   "codemirror_mode": {
    "name": "ipython",
    "version": 3
   },
   "file_extension": ".py",
   "mimetype": "text/x-python",
   "name": "python",
   "nbconvert_exporter": "python",
   "pygments_lexer": "ipython3",
   "version": "3.10.11"
  }
 },
 "nbformat": 4,
 "nbformat_minor": 5
}
